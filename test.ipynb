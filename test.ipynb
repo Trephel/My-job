{
 "cells": [
  {
   "cell_type": "markdown",
   "id": "87896b67",
   "metadata": {},
   "source": [
    "##### Les données semblent être structurées sous forme de lignes. Si on assimile les lettres a b c d e f g comme étant des colonnes alors on aura:\n",
    "\n",
    "        a)Index (ID) : C'est un identifiant unique attribué à chaque enregistrement dans le fichier. Il permet de distinguer chaque élément de manière unique.\n",
    "\n",
    "    b)Description : Cette colonne contient une description détaillée de l'élément ou de l'enregistrement. \n",
    "    Elle peut contenir des informations supplémentaires sur la personne ou l'élément associé.\n",
    "\n",
    "    c)Prénom : Il s'agit du prénom de la personne associée à l'enregistrement. C'est le nom qui précède le nom de \n",
    "    famille .\n",
    "\n",
    "    d)Nom : Le nom de famille de la personne associée à l'enregistrement. Il s'agit du nom qui suit généralement \n",
    "    le prénom et qui identifie la famille à laquelle la personne appartient.\n",
    "\n",
    "    e)Revenu annuel : C'est le revenu total qu'une personne gagne au cours d'une année, généralement avant les impôts\n",
    "    et autres déductions.\n",
    "\n",
    "    f)Revenu passif : Il s'agit du revenu qu'une personne génère de manière passive, c'est-à-dire sans nécessiter une\n",
    "    activité régulière pour le maintenir. Cela peut inclure des revenus de location, des dividendes d'actions, \n",
    "    des intérêts bancaires, etc.\n",
    "\n",
    "    g)Revenu total : Cette colonne représente le revenu total d'une personne, ce qui comprend à la fois le revenu \n",
    "    annuel et le revenu passif. C'est la somme des deux types de revenus et donne une idée globale de la situation\n",
    "    financière de la personne."
   ]
  },
  {
   "cell_type": "code",
   "execution_count": 1,
   "id": "18a3dbbd",
   "metadata": {},
   "outputs": [
    {
     "name": "stdout",
     "output_type": "stream",
     "text": [
      "['Your mission shall you accept it is to']\n",
      "['* Explain every column.']\n",
      "['* Find the 3 richest person.']\n",
      "[]\n",
      "['This is a simple test', ' it should not take you more 30minutes to code.']\n",
      "[]\n",
      "[]\n",
      "[]\n",
      "['a', 'b', 'c', 'd', 'e', 'f', 'g']\n",
      "['0', 'longue description 0', 'Victor', 'Évrat', '1779', '0', '1779']\n",
      "['1', 'longue description 1', 'Ugo', 'Ogier', '3218', '0', '3218']\n",
      "['2', 'longue description 2', 'Gerard', 'Zola', '3909', '0', '3909']\n",
      "['3', 'longue description 3', 'Ingrid', 'Quesada', '2672', '0', '2672']\n",
      "['4', 'longue description 4', 'Xavier', 'Yvars', '4224', '0', '4224']\n",
      "['5', 'longue description 5', 'Régis', 'Ferry', '3479', '0', '3479']\n",
      "['6', 'longue description 6', 'Thierry', 'Zola', '0', '-402', '-402']\n",
      "['7', 'longue description 7', 'Elodie', 'Hénaut', '2623', '0', '2623']\n",
      "['8', 'longue description 0', 'Xavier', 'Zola', '1249', '0', '1249']\n",
      "['9', 'longue description 1', 'Pascal', 'Cannet', '1986', '0', '1986']\n",
      "['10', 'longue description 2', 'Victor', 'Martin', '4417', '0', '4417']\n"
     ]
    }
   ],
   "source": [
    "import csv\n",
    "\n",
    "# Chemin vers fichier CSV\n",
    "chemin_fichier = \"data.csv\"\n",
    "\n",
    "# Nombre de lignes à afficher\n",
    "nombre_lignes = 20\n",
    "\n",
    "# Ouvrir le fichier CSV en mode lecture\n",
    "with open(chemin_fichier, 'r', newline='', encoding='utf-8') as fichier_csv:\n",
    "    # Créer un lecteur CSV\n",
    "    lecteur = csv.reader(fichier_csv)\n",
    "    \n",
    "    # Lire et afficher les premières lignes\n",
    "    for i, ligne in enumerate(lecteur):\n",
    "        if i < nombre_lignes:\n",
    "            print(ligne)\n",
    "        else:\n",
    "            break\n"
   ]
  },
  {
   "cell_type": "code",
   "execution_count": 11,
   "id": "3156c7f8",
   "metadata": {},
   "outputs": [
    {
     "name": "stdout",
     "output_type": "stream",
     "text": [
      "                  d    c          g\n",
      "299998369  Walliand  Zoé  893775958\n"
     ]
    }
   ],
   "source": [
    "import pandas as pd\n",
    "\n",
    "# Définir le nom du fichier CSV et le chunksize\n",
    "filename = 'data.csv'\n",
    "chunksize = 10 ** 6\n",
    "\n",
    "# Définir les noms de colonnes\n",
    "column_names = ['a', 'b', 'c', 'd', 'e', 'f', 'g']\n",
    "\n",
    "# Initialiser les variables pour garder une trace des maximums\n",
    "max_wealth = 0\n",
    "max_rows = []\n",
    "\n",
    "# Lire le fichier CSV par morceaux\n",
    "for chunk in pd.read_csv(filename, names=column_names, chunksize=chunksize,low_memory=False):\n",
    "    # Convertir la colonne 'g' en type numérique\n",
    "    chunk['g'] = pd.to_numeric(chunk['g'], errors='coerce')\n",
    "\n",
    "    # Trouver le maximum de la colonne 'wealth' dans ce chunk\n",
    "    chunk_max_wealth = chunk['g'].max()\n",
    "\n",
    "    # Si le maximum de ce chunk est supérieur au maximum actuel, mettre à jour les variables\n",
    "    if chunk_max_wealth > max_wealth:\n",
    "        max_wealth = chunk_max_wealth\n",
    "        max_rows = chunk[chunk['g'] == max_wealth].head(3)\n",
    "    # Sinon, ajouter les lignes de ce chunk qui ont la même richesse que le maximum actuel\n",
    "    elif chunk_max_wealth == max_wealth:\n",
    "        max_rows = pd.concat([max_rows, chunk[chunk['g'] == max_wealth].head(3)])\n",
    "\n",
    "# Afficher les 3 personnes les plus riches\n",
    "print(max_rows[['d', 'c', 'g']])"
   ]
  },
  {
   "cell_type": "code",
   "execution_count": 7,
   "id": "1cc3a9ef",
   "metadata": {},
   "outputs": [
    {
     "name": "stdout",
     "output_type": "stream",
     "text": [
      "     c         d          g\n",
      "3  Zoé  Walliand  893775958\n",
      "4  Zoé  Walliand  893775893\n",
      "5  Zoé  Walliand  893775523\n"
     ]
    }
   ],
   "source": [
    "import pandas as pd\n",
    "\n",
    "# Paramètres\n",
    "nom_fichier_csv = 'data.csv'\n",
    "taille_chunk = 10**6  # Taille de chaque morceau à lire, ajustez selon la mémoire disponible.\n",
    "\n",
    "# Initialisation d'un DataFrame vide pour accumuler les résultats\n",
    "df_riches = pd.DataFrame()\n",
    "\n",
    "# Lire le fichier CSV par morceaux, en sautant les 5 premières lignes\n",
    "for chunk in pd.read_csv(nom_fichier_csv, skiprows=5, chunksize=taille_chunk):\n",
    "    \n",
    "    # Triez chaque morceau par 'richesses' en ordre décroissant et prenez les 3 premiers\n",
    "    top3 = chunk.nlargest(3, 'g')\n",
    "    # Concaténez avec le DataFrame global\n",
    "    df_riches = pd.concat([df_riches, top3], ignore_index=True)\n",
    "    # Triez à nouveau et gardez les 3 entrées les plus riches au cas où de nouveaux candidats apparaissent\n",
    "    df_riches = df_riches.nlargest(3, 'g')\n",
    "\n",
    "# Affichez les résultats\n",
    "print(df_riches[['c', 'd', 'g']])"
   ]
  },
  {
   "cell_type": "code",
   "execution_count": 8,
   "id": "ecaeedd2",
   "metadata": {},
   "outputs": [
    {
     "name": "stdout",
     "output_type": "stream",
     "text": [
      "      c         d          g\n",
      "20  Zoé  Walliand  893775958\n",
      "21  Zoé  Walliand  893775893\n",
      "22  Zoé  Walliand  893775523\n",
      "23  Zoé  Walliand  893772141\n",
      "24  Zoé  Walliand  893768843\n",
      "25  Zoé  Walliand  893765577\n",
      "26  Zoé  Walliand  893763815\n",
      "27  Zoé  Walliand  893761865\n",
      "28  Zoé  Walliand  893758320\n",
      "29  Zoé  Walliand  893757874\n",
      "30  Zoé  Walliand  893757804\n",
      "31  Zoé  Walliand  893756998\n",
      "32  Zoé  Walliand  893754277\n",
      "33  Zoé  Walliand  893751638\n",
      "34  Zoé  Walliand  893748237\n",
      "35  Zoé  Walliand  893743599\n",
      "36  Zoé  Walliand  893739557\n",
      "37  Zoé  Walliand  893735923\n",
      "38  Zoé  Walliand  893734576\n",
      "39  Zoé  Walliand  893733773\n"
     ]
    }
   ],
   "source": [
    "import pandas as pd\n",
    "\n",
    "# Paramètres\n",
    "nom_fichier_csv = 'data.csv'\n",
    "taille_chunk = 10**6  # Taille de chaque morceau à lire, ajustez selon la mémoire disponible.\n",
    "\n",
    "# Initialisation d'un DataFrame vide pour accumuler les résultats\n",
    "df_riches = pd.DataFrame()\n",
    "\n",
    "# Lire le fichier CSV par morceaux, en sautant les 5 premières lignes\n",
    "for chunk in pd.read_csv(nom_fichier_csv, skiprows=5, chunksize=taille_chunk):\n",
    "    \n",
    "    # Triez chaque morceau par 'richesses' en ordre décroissant et prenez les 3 premiers\n",
    "    top3 = chunk.nlargest(20, 'g')\n",
    "    # Concaténez avec le DataFrame global\n",
    "    df_riches = pd.concat([df_riches, top3], ignore_index=True)\n",
    "    # Triez à nouveau et gardez les 3 entrées les plus riches au cas où de nouveaux candidats apparaissent\n",
    "    df_riches = df_riches.nlargest(20, 'g')\n",
    "\n",
    "# Affichez les résultats\n",
    "print(df_riches[['c', 'd', 'g']])"
   ]
  },
  {
   "cell_type": "code",
   "execution_count": 10,
   "id": "add60aed",
   "metadata": {},
   "outputs": [
    {
     "name": "stdout",
     "output_type": "stream",
     "text": [
      "les 3 personnes les plus riches:\n",
      "            d       c          g\n",
      "5      Urbain  Océane  889006423\n",
      "0  Parmentier  Gerard  886139261\n",
      "1    Walliand     Zoé  884725414\n"
     ]
    }
   ],
   "source": [
    "import pandas as pd\n",
    "\n",
    "# Paramètres\n",
    "nom_fichier_csv = 'data.csv'\n",
    "taille_chunk = 10**6  # Taille de chaque morceau à lire, ajustez selon la mémoire disponible.\n",
    "\n",
    "# Initialisation d'un DataFrame vide pour accumuler les résultats\n",
    "df_riches = pd.DataFrame()\n",
    "\n",
    "# Lire le fichier CSV par morceaux, en sautant les 5 premières lignes\n",
    "for chunk in pd.read_csv(nom_fichier_csv, skiprows=5, chunksize=taille_chunk):\n",
    "    \n",
    "    # Elimine les doublons basés sur 'nom' et 'prenom'. \n",
    "    chunk = chunk.drop_duplicates(subset=['d', 'c'])\n",
    "    \n",
    "    # Triez chaque morceau par 'richesses' en ordre décroissant et prenez les 3 premiers\n",
    "    top3 = chunk.nlargest(3, 'g')\n",
    "    \n",
    "    # Concaténez avec le DataFrame global\n",
    "    df_riches = pd.concat([df_riches, top3], ignore_index=True)\n",
    "    \n",
    "    # Elimine à nouveau les doublons après la concaténation, au cas où des doublons apparaissent entre les morceaux\n",
    "    df_riches = df_riches.drop_duplicates(subset=['d', 'c'])\n",
    "    \n",
    "    # Triez à nouveau et gardez les 3 entrées les plus riches\n",
    "    df_riches = df_riches.nlargest(3, 'g')\n",
    "\n",
    "# Affichez les résultats\n",
    "print(\"les 3 personnes les plus riches:\")\n",
    "print(df_riches[['d', 'c', 'g']])"
   ]
  },
  {
   "cell_type": "code",
   "execution_count": null,
   "id": "8a16d460",
   "metadata": {},
   "outputs": [],
   "source": []
  }
 ],
 "metadata": {
  "kernelspec": {
   "display_name": "Python 3 (ipykernel)",
   "language": "python",
   "name": "python3"
  },
  "language_info": {
   "codemirror_mode": {
    "name": "ipython",
    "version": 3
   },
   "file_extension": ".py",
   "mimetype": "text/x-python",
   "name": "python",
   "nbconvert_exporter": "python",
   "pygments_lexer": "ipython3",
   "version": "3.11.5"
  }
 },
 "nbformat": 4,
 "nbformat_minor": 5
}
