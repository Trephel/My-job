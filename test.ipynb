{
 "cells": [
  {
   "cell_type": "markdown",
   "id": "87896b67",
   "metadata": {},
   "source": [
    "##### Les données semblent être structurées sous forme de lignes. Si on assimile les lettres a b c d e f g comme étant des colonnes alors on aura:\n",
    "\n",
    "        a)Index (ID) : C'est un identifiant unique attribué à chaque enregistrement dans le fichier. Il permet de distinguer chaque élément de manière unique.\n",
    "\n",
    "    b)Description : Cette colonne contient une description détaillée de l'élément ou de l'enregistrement. \n",
    "    Elle peut contenir des informations supplémentaires sur la personne ou l'élément associé.\n",
    "\n",
    "    c)Prénom : Il s'agit du prénom de la personne associée à l'enregistrement. C'est le nom qui précède le nom de \n",
    "    famille .\n",
    "\n",
    "    d)Nom : Le nom de famille de la personne associée à l'enregistrement. Il s'agit du nom qui suit généralement \n",
    "    le prénom et qui identifie la famille à laquelle la personne appartient.\n",
    "\n",
    "    e)Revenu annuel : C'est le revenu total qu'une personne gagne au cours d'une année, généralement avant les impôts\n",
    "    et autres déductions.\n",
    "\n",
    "    f)Revenu passif : Il s'agit du revenu qu'une personne génère de manière passive, c'est-à-dire sans nécessiter une\n",
    "    activité régulière pour le maintenir. Cela peut inclure des revenus de location, des dividendes d'actions, \n",
    "    des intérêts bancaires, etc.\n",
    "\n",
    "    g)Revenu total : Cette colonne représente le revenu total d'une personne, ce qui comprend à la fois le revenu \n",
    "    annuel et le revenu passif. C'est la somme des deux types de revenus et donne une idée globale de la situation\n",
    "    financière de la personne."
   ]
  },
  {
   "cell_type": "code",
   "execution_count": 11,
   "id": "0bafca19",
   "metadata": {},
   "outputs": [
    {
     "name": "stdout",
     "output_type": "stream",
     "text": [
      "{'a': '0', 'b': 'longue description 0', 'c': 'Victor', 'd': 'Évrat', 'e': '1779', 'f': '0', 'g': '1779'}\n",
      "{'a': '1', 'b': 'longue description 1', 'c': 'Ugo', 'd': 'Ogier', 'e': '3218', 'f': '0', 'g': '3218'}\n",
      "{'a': '2', 'b': 'longue description 2', 'c': 'Gerard', 'd': 'Zola', 'e': '3909', 'f': '0', 'g': '3909'}\n",
      "{'a': '3', 'b': 'longue description 3', 'c': 'Ingrid', 'd': 'Quesada', 'e': '2672', 'f': '0', 'g': '2672'}\n",
      "{'a': '4', 'b': 'longue description 4', 'c': 'Xavier', 'd': 'Yvars', 'e': '4224', 'f': '0', 'g': '4224'}\n",
      "{'a': '5', 'b': 'longue description 5', 'c': 'Régis', 'd': 'Ferry', 'e': '3479', 'f': '0', 'g': '3479'}\n",
      "{'a': '6', 'b': 'longue description 6', 'c': 'Thierry', 'd': 'Zola', 'e': '0', 'f': '-402', 'g': '-402'}\n",
      "{'a': '7', 'b': 'longue description 7', 'c': 'Elodie', 'd': 'Hénaut', 'e': '2623', 'f': '0', 'g': '2623'}\n",
      "{'a': '8', 'b': 'longue description 0', 'c': 'Xavier', 'd': 'Zola', 'e': '1249', 'f': '0', 'g': '1249'}\n",
      "{'a': '9', 'b': 'longue description 1', 'c': 'Pascal', 'd': 'Cannet', 'e': '1986', 'f': '0', 'g': '1986'}\n"
     ]
    }
   ],
   "source": [
    "import csv\n",
    "\n",
    "# Chemin vers votre fichier CSV\n",
    "csv_file = \"data.csv\"\n",
    "\n",
    "# Nombre de lignes à afficher\n",
    "nombre_lignes = 10  # Par exemple, afficher les 5 premières lignes\n",
    "\n",
    "# Ouvrir le fichier CSV en mode lecture\n",
    "with open(csv_file, 'r', newline='', encoding='utf-8') as file:\n",
    "    # Créer un lecteur CSV\n",
    "    reader = csv.DictReader(file)\n",
    "    \n",
    "    # Afficher les premières lignes\n",
    "    for i, row in enumerate(reader):\n",
    "        if i < nombre_lignes:\n",
    "            print(row)\n",
    "        else:\n",
    "            break\n"
   ]
  },
  {
   "cell_type": "code",
   "execution_count": 8,
   "id": "8893aa05",
   "metadata": {},
   "outputs": [
    {
     "name": "stdout",
     "output_type": "stream",
     "text": [
      "CÃ©line Lombard : 3371328\n",
      "CÃ©line Lombard : 3371285\n",
      "CÃ©line Lombard : 3369222\n"
     ]
    }
   ],
   "source": [
    "import csv\n",
    "\n",
    "# Charger les données à partir du fichier CSV\n",
    "data = []\n",
    "with open('data.csv', newline='') as csvfile:\n",
    "    reader = csv.DictReader(csvfile)\n",
    "    for row in reader:\n",
    "        data.append(row)\n",
    "\n",
    "# Trier les données par richesse (colonne 'richesse' dans cet exemple)\n",
    "sorted_data = sorted(data, key=lambda x: int(x['g']), reverse=True)\n",
    "\n",
    "# Extraire les 3 premières personnes les plus riches\n",
    "top_3_richest = sorted_data[:3]\n",
    "\n",
    "# Afficher les résultats\n",
    "for person in top_3_richest:\n",
    "    print(f\"{person['c']} {person['d']} : {person['g']}\")"
   ]
  },
  {
   "cell_type": "code",
   "execution_count": 10,
   "id": "376db7f9",
   "metadata": {},
   "outputs": [
    {
     "name": "stdout",
     "output_type": "stream",
     "text": [
      "Nom : CÃ©line, Prénom : Lombard - Richesse : 3371328\n",
      "Nom : William, Prénom : Barbier - Richesse : 3358098\n",
      "Nom : Martine, Prénom : Zola - Richesse : 3356825\n"
     ]
    }
   ],
   "source": [
    "# Initialiser un ensemble pour stocker les noms déjà rencontrés\n",
    "names_set = set()\n",
    "\n",
    "# Afficher les résultats avec des noms uniques\n",
    "count = 0\n",
    "for person in sorted_data:\n",
    "    if person['c'] not in names_set:\n",
    "        print(f\"Nom : {person['c']}, Prénom : {person['d']} - Richesse : {person['g']}\")\n",
    "        names_set.add(person['c'])\n",
    "        count += 1\n",
    "    if count == 3:\n",
    "        break\n"
   ]
  },
  {
   "cell_type": "code",
   "execution_count": null,
   "id": "ffaf8264",
   "metadata": {},
   "outputs": [],
   "source": []
  }
 ],
 "metadata": {
  "kernelspec": {
   "display_name": "Python 3 (ipykernel)",
   "language": "python",
   "name": "python3"
  },
  "language_info": {
   "codemirror_mode": {
    "name": "ipython",
    "version": 3
   },
   "file_extension": ".py",
   "mimetype": "text/x-python",
   "name": "python",
   "nbconvert_exporter": "python",
   "pygments_lexer": "ipython3",
   "version": "3.11.5"
  }
 },
 "nbformat": 4,
 "nbformat_minor": 5
}
