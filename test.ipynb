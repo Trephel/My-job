{
 "cells": [
  {
   "cell_type": "markdown",
   "id": "87896b67",
   "metadata": {},
   "source": [
    "##### Les données semblent être structurées sous forme de lignes. Si on assimile les lettres a b c d e f g comme étant des colonnes alors on aura:\n",
    "\n",
    "        a)Index (ID) : C'est un identifiant unique attribué à chaque enregistrement dans le fichier. Il permet de distinguer chaque élément de manière unique.\n",
    "\n",
    "    b)Description : Cette colonne contient une description détaillée de l'élément ou de l'enregistrement. \n",
    "    Elle peut contenir des informations supplémentaires sur la personne ou l'élément associé.\n",
    "\n",
    "    c)Prénom : Il s'agit du prénom de la personne associée à l'enregistrement. C'est le nom qui précède le nom de \n",
    "    famille .\n",
    "\n",
    "    d)Nom : Le nom de famille de la personne associée à l'enregistrement. Il s'agit du nom qui suit généralement \n",
    "    le prénom et qui identifie la famille à laquelle la personne appartient.\n",
    "\n",
    "    e)Revenu annuel : C'est le revenu total qu'une personne gagne au cours d'une année, généralement avant les impôts\n",
    "    et autres déductions.\n",
    "\n",
    "    f)Revenu passif : Il s'agit du revenu qu'une personne génère de manière passive, c'est-à-dire sans nécessiter une\n",
    "    activité régulière pour le maintenir. Cela peut inclure des revenus de location, des dividendes d'actions, \n",
    "    des intérêts bancaires, etc.\n",
    "\n",
    "    g)Revenu total : Cette colonne représente le revenu total d'une personne, ce qui comprend à la fois le revenu \n",
    "    annuel et le revenu passif. C'est la somme des deux types de revenus et donne une idée globale de la situation\n",
    "    financière de la personne."
   ]
  },
  {
   "cell_type": "code",
   "execution_count": 31,
   "id": "0bafca19",
   "metadata": {},
   "outputs": [
    {
     "name": "stdout",
     "output_type": "stream",
     "text": [
      "Les 10 premières lignes :\n",
      "{'a': '0', 'b': 'longue description 0', 'c': 'Victor', 'd': 'Évrat', 'e': '1779', 'f': '0', 'g': '1779'}\n",
      "{'a': '1', 'b': 'longue description 1', 'c': 'Ugo', 'd': 'Ogier', 'e': '3218', 'f': '0', 'g': '3218'}\n",
      "{'a': '2', 'b': 'longue description 2', 'c': 'Gerard', 'd': 'Zola', 'e': '3909', 'f': '0', 'g': '3909'}\n",
      "{'a': '3', 'b': 'longue description 3', 'c': 'Ingrid', 'd': 'Quesada', 'e': '2672', 'f': '0', 'g': '2672'}\n",
      "{'a': '4', 'b': 'longue description 4', 'c': 'Xavier', 'd': 'Yvars', 'e': '4224', 'f': '0', 'g': '4224'}\n",
      "{'a': '5', 'b': 'longue description 5', 'c': 'Régis', 'd': 'Ferry', 'e': '3479', 'f': '0', 'g': '3479'}\n",
      "{'a': '6', 'b': 'longue description 6', 'c': 'Thierry', 'd': 'Zola', 'e': '0', 'f': '-402', 'g': '-402'}\n",
      "{'a': '7', 'b': 'longue description 7', 'c': 'Elodie', 'd': 'Hénaut', 'e': '2623', 'f': '0', 'g': '2623'}\n",
      "{'a': '8', 'b': 'longue description 0', 'c': 'Xavier', 'd': 'Zola', 'e': '1249', 'f': '0', 'g': '1249'}\n",
      "{'a': '9', 'b': 'longue description 1', 'c': 'Pascal', 'd': 'Cannet', 'e': '1986', 'f': '0', 'g': '1986'}\n",
      "\n",
      "Les 10 dernières lignes :\n",
      "{'a': '1048557', 'b': 'longue description 5', 'c': 'Thierry', 'd': 'Quesada', 'e': '0', 'f': '-564', 'g': '3147523'}\n",
      "{'a': '1048558', 'b': 'longue description 6', 'c': 'Quentin', 'd': 'Barbier', 'e': '3726', 'f': '0', 'g': '3120761'}\n",
      "{'a': '1048559', 'b': 'longue description 7', 'c': 'Victor', 'd': 'Kléber', 'e': '1549', 'f': '0', 'g': '3266339'}\n",
      "{'a': '1048560', 'b': 'longue description 0', 'c': 'Zoé', 'd': 'Parmentier', 'e': '4296', 'f': '0', 'g': '3346663'}\n",
      "{'a': '1048561', 'b': 'longue description 1', 'c': 'Xavier', 'd': 'Kléber', 'e': '0', 'f': '-582', 'g': '2964767'}\n",
      "{'a': '1048562', 'b': 'longue description 2', 'c': 'Thierry', 'd': 'Dupond', 'e': '3476', 'f': '0', 'g': '3089099'}\n",
      "{'a': '1048563', 'b': 'longue description 3', 'c': 'François', 'd': 'Urbain', 'e': '1458', 'f': '0', 'g': '3126558'}\n",
      "{'a': '1048564', 'b': 'longue description 4', 'c': 'Pascal', 'd': 'Ogier', 'e': '1253', 'f': '0', 'g': '3102248'}\n",
      "{'a': '1048565', 'b': 'longue description 5', 'c': 'Elodie', 'd': 'Barbier', 'e': '0', 'f': '-474', 'g': '3217903'}\n",
      "{'a': '1048566', 'b': 'longue description 6', 'c': 'Ugo', 'd': 'Vergez', 'e': '3288', 'f': '0', 'g': '3230206'}\n"
     ]
    }
   ],
   "source": [
    "import csv\n",
    "\n",
    "# Chemin vers votre fichier CSV\n",
    "csv_file = \"data1.csv\"\n",
    "\n",
    "# Nombre de lignes à afficher en début et en fin\n",
    "nombre_lignes = 10\n",
    "\n",
    "# Ouvrir le fichier CSV en mode lecture\n",
    "with open(csv_file, 'r', newline='', encoding='utf-8') as file:\n",
    "    # Créer un lecteur CSV\n",
    "    reader = csv.DictReader(file)\n",
    "    \n",
    "    # Initialiser une liste pour stocker toutes les lignes\n",
    "    lignes = list(reader)\n",
    "    \n",
    "# Afficher les 10 premières lignes\n",
    "print(\"Les 10 premières lignes :\")\n",
    "for ligne in lignes[:nombre_lignes]:\n",
    "    print(ligne)\n",
    "\n",
    "# Afficher les 10 dernières lignes\n",
    "print(\"\\nLes 10 dernières lignes :\")\n",
    "for ligne in lignes[-nombre_lignes:]:\n",
    "    print(ligne)"
   ]
  },
  {
   "cell_type": "code",
   "execution_count": 37,
   "id": "ae4cccea",
   "metadata": {},
   "outputs": [
    {
     "name": "stdout",
     "output_type": "stream",
     "text": [
      "Les 10 personnes les plus riches avec doublons :\n",
      "1. Céline Lombard : 3371328\n",
      "2. Céline Lombard : 3371285\n",
      "3. Céline Lombard : 3369222\n",
      "4. Céline Lombard : 3367486\n",
      "5. Céline Lombard : 3365851\n",
      "6. Céline Lombard : 3361554\n",
      "7. William Barbier : 3358098\n",
      "8. Céline Lombard : 3358042\n",
      "9. Martine Zola : 3356825\n",
      "10. William Barbier : 3356577\n"
     ]
    }
   ],
   "source": [
    "import csv\n",
    "\n",
    "# Chemin vers votre fichier CSV\n",
    "csv_file = \"data1.csv\"\n",
    "\n",
    "# Charger les données à partir du fichier CSV\n",
    "data = []\n",
    "with open(csv_file, newline='', encoding='utf-8') as csvfile:\n",
    "    reader = csv.DictReader(csvfile)\n",
    "    for row in reader:\n",
    "        data.append(row)\n",
    "\n",
    "# Trier les données par richesse (colonne 'Revenu total' dans cet exemple)\n",
    "sorted_data = sorted(data, key=lambda x: int(x['g']), reverse=True)\n",
    "\n",
    "# Afficher les 10 personnes les plus riches avec doublons\n",
    "print(\"Les 10 personnes les plus riches avec doublons :\")\n",
    "for i, person in enumerate(sorted_data[:10]):\n",
    "    print(f\"{i+1}. {person['c']} {person['d']} : {person['g']}\")"
   ]
  },
  {
   "cell_type": "code",
   "execution_count": 33,
   "id": "003221a0",
   "metadata": {},
   "outputs": [
    {
     "name": "stdout",
     "output_type": "stream",
     "text": [
      "Les 3 personnes les plus riches :\n",
      "Céline Lombard : 3371328\n",
      "Céline Lombard : 3371285\n",
      "Céline Lombard : 3369222\n"
     ]
    }
   ],
   "source": [
    "import csv\n",
    "\n",
    "# Chemin vers votre fichier CSV\n",
    "csv_file = \"data1.csv\"\n",
    "\n",
    "# Charger les données à partir du fichier CSV\n",
    "data = []\n",
    "with open(csv_file, newline='', encoding='utf-8') as csvfile:\n",
    "    reader = csv.DictReader(csvfile)\n",
    "    for row in reader:\n",
    "        data.append(row)\n",
    "\n",
    "# Trier les données par richesse (colonne 'Revenu total' dans cet exemple)\n",
    "sorted_data = sorted(data, key=lambda x: int(x['g']), reverse=True)\n",
    "\n",
    "# Extraire les 3 premières personnes les plus riches\n",
    "top_3_richest = sorted_data[:3]\n",
    "\n",
    "# Afficher les résultats\n",
    "print(\"Les 3 personnes les plus riches :\")\n",
    "for person in top_3_richest:\n",
    "    print(f\"{person['c']} {person['d']} : {person['g']}\")"
   ]
  },
  {
   "cell_type": "code",
   "execution_count": 35,
   "id": "8e43602c",
   "metadata": {},
   "outputs": [
    {
     "name": "stdout",
     "output_type": "stream",
     "text": [
      "Les 3 personnes les plus riches sans noms en double :\n",
      "Céline Lombard : 3371328\n",
      "William Barbier : 3358098\n",
      "Martine Zola : 3356825\n"
     ]
    }
   ],
   "source": [
    "import csv\n",
    "\n",
    "# Chemin vers votre fichier CSV\n",
    "csv_file = \"data1.csv\"\n",
    "\n",
    "# Charger les données à partir du fichier CSV\n",
    "data = []\n",
    "with open(csv_file, newline='', encoding='utf-8') as csvfile:\n",
    "    reader = csv.DictReader(csvfile)\n",
    "    for row in reader:\n",
    "        data.append(row)\n",
    "\n",
    "# Supprimer les noms en double\n",
    "unique_names = []\n",
    "for row in data:\n",
    "    full_name = row['c'] + ' ' + row['d']\n",
    "    if full_name not in unique_names:\n",
    "        unique_names.append(full_name)\n",
    "\n",
    "# Trier les données par richesse (colonne 'Revenu total' dans cet exemple)\n",
    "sorted_data = sorted(data, key=lambda x: int(x['g']), reverse=True)\n",
    "\n",
    "# Extraire les 3 premières personnes les plus riches\n",
    "top_3_richest = []\n",
    "for person in sorted_data:\n",
    "    full_name = person['c'] + ' ' + person['d']\n",
    "    if full_name in unique_names:\n",
    "        top_3_richest.append(person)\n",
    "        unique_names.remove(full_name)\n",
    "    if len(top_3_richest) == 3:\n",
    "        break\n",
    "\n",
    "# Afficher les résultats\n",
    "print(\"Les 3 personnes les plus riches sans noms en double :\")\n",
    "for person in top_3_richest:\n",
    "    print(f\"{person['c']} {person['d']} : {person['g']}\")"
   ]
  },
  {
   "cell_type": "code",
   "execution_count": null,
   "id": "2196cfcc",
   "metadata": {},
   "outputs": [],
   "source": []
  }
 ],
 "metadata": {
  "kernelspec": {
   "display_name": "Python 3 (ipykernel)",
   "language": "python",
   "name": "python3"
  },
  "language_info": {
   "codemirror_mode": {
    "name": "ipython",
    "version": 3
   },
   "file_extension": ".py",
   "mimetype": "text/x-python",
   "name": "python",
   "nbconvert_exporter": "python",
   "pygments_lexer": "ipython3",
   "version": "3.11.5"
  }
 },
 "nbformat": 4,
 "nbformat_minor": 5
}
